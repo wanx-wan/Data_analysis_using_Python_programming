{
 "cells": [
  {
   "cell_type": "code",
   "execution_count": 1,
   "id": "5b66ef0c",
   "metadata": {},
   "outputs": [],
   "source": [
    "import pandas as pd\n",
    "from functools import reduce\n",
    "\n",
    "df = pd.read_excel('data_pm_44T.xlsx')\n",
    "\n",
    "def find_max_value(df):\n",
    "    max_value = df['44T'].max()\n",
    "    max_row = df[df['44T'] == max_value]\n",
    "    return max_row\n",
    "\n",
    "result = reduce(lambda x, y: x.append(y), map(find_max_value, [df]))\n",
    "output_file = 'Max_pm_44T.txt'\n",
    "result.to_csv(output_file, index=False, sep='\\t')"
   ]
  }
 ],
 "metadata": {
  "kernelspec": {
   "display_name": "Python 3 (ipykernel)",
   "language": "python",
   "name": "python3"
  },
  "language_info": {
   "codemirror_mode": {
    "name": "ipython",
    "version": 3
   },
   "file_extension": ".py",
   "mimetype": "text/x-python",
   "name": "python",
   "nbconvert_exporter": "python",
   "pygments_lexer": "ipython3",
   "version": "3.9.15"
  }
 },
 "nbformat": 4,
 "nbformat_minor": 5
}
