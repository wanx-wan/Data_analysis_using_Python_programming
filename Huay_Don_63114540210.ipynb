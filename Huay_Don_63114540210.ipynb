{
 "cells": [
  {
   "cell_type": "code",
   "execution_count": 1,
   "id": "73d8f17d",
   "metadata": {},
   "outputs": [],
   "source": [
    "from datetime import datetime\n",
    "from collections import defaultdict\n",
    "import pandas as pd\n",
    "\n",
    "data = pd.read_excel('Huay_Don_Data.xlsx')\n",
    "\n",
    "totals = defaultdict(float)\n",
    "count_month = defaultdict(int)\n",
    "\n",
    "def map_dam(row):\n",
    "    date, quantity = row\n",
    "    month = datetime.strptime(date, \"%Y-%m-%d\").strftime(\"%Y-%m\")\n",
    "    return (month, quantity)\n",
    "\n",
    "def reduce_dam(mapped_data):\n",
    "    for month, quantity in mapped_data:\n",
    "        totals[month] += quantity\n",
    "        count_month[month] += 1\n",
    "\n",
    "mapped_data = [map_dam(row) for row in data.itertuples(index=False, name=None)]\n",
    "\n",
    "reduce_dam(mapped_data)\n",
    "\n",
    "avg_totals = {month: total / count_month[month] for month, total in totals.items()}\n",
    "\n",
    "with open('Huay_Don.txt', 'w') as output_file:\n",
    "    for month, average in avg_totals.items():\n",
    "        output_file.write(f'{month}: {average:.2f}\\n')"
   ]
  }
 ],
 "metadata": {
  "kernelspec": {
   "display_name": "Python 3 (ipykernel)",
   "language": "python",
   "name": "python3"
  },
  "language_info": {
   "codemirror_mode": {
    "name": "ipython",
    "version": 3
   },
   "file_extension": ".py",
   "mimetype": "text/x-python",
   "name": "python",
   "nbconvert_exporter": "python",
   "pygments_lexer": "ipython3",
   "version": "3.9.15"
  }
 },
 "nbformat": 4,
 "nbformat_minor": 5
}
